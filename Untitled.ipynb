{
 "cells": [
  {
   "cell_type": "code",
   "execution_count": 1,
   "id": "cf5f9a3a",
   "metadata": {},
   "outputs": [
    {
     "name": "stdout",
     "output_type": "stream",
     "text": [
      " * Serving Flask app '__main__'\n",
      " * Debug mode: off\n"
     ]
    },
    {
     "name": "stderr",
     "output_type": "stream",
     "text": [
      "WARNING: This is a development server. Do not use it in a production deployment. Use a production WSGI server instead.\n",
      " * Running on all addresses (0.0.0.0)\n",
      " * Running on http://127.0.0.1:5000\n",
      " * Running on http://192.168.1.95:5000\n",
      "Press CTRL+C to quit\n",
      "127.0.0.1 - - [03/Sep/2024 08:47:00] \"GET / HTTP/1.1\" 200 -\n",
      "127.0.0.1 - - [03/Sep/2024 08:47:00] \"GET /images/barack_obama.png HTTP/1.1\" 304 -\n",
      "127.0.0.1 - - [03/Sep/2024 08:47:02] \"GET / HTTP/1.1\" 200 -\n",
      "127.0.0.1 - - [03/Sep/2024 08:47:02] \"GET /images/joesph_biden_jr.png HTTP/1.1\" 304 -\n",
      "127.0.0.1 - - [03/Sep/2024 08:47:03] \"GET / HTTP/1.1\" 200 -\n",
      "127.0.0.1 - - [03/Sep/2024 08:47:03] \"GET /images/joesph_biden_jr.png HTTP/1.1\" 304 -\n",
      "127.0.0.1 - - [03/Sep/2024 08:47:04] \"GET / HTTP/1.1\" 200 -\n",
      "127.0.0.1 - - [03/Sep/2024 08:47:04] \"GET /images/joesph_biden_jr.png HTTP/1.1\" 304 -\n",
      "127.0.0.1 - - [03/Sep/2024 08:47:04] \"GET / HTTP/1.1\" 200 -\n",
      "127.0.0.1 - - [03/Sep/2024 08:47:04] \"GET /images/barack_obama.png HTTP/1.1\" 304 -\n",
      "127.0.0.1 - - [03/Sep/2024 08:47:04] \"GET / HTTP/1.1\" 200 -\n",
      "127.0.0.1 - - [03/Sep/2024 08:47:05] \"GET /images/joesph_biden_jr.png HTTP/1.1\" 304 -\n",
      "127.0.0.1 - - [03/Sep/2024 08:47:05] \"GET / HTTP/1.1\" 200 -\n",
      "127.0.0.1 - - [03/Sep/2024 08:47:05] \"GET /images/barack_obama.png HTTP/1.1\" 304 -\n",
      "127.0.0.1 - - [03/Sep/2024 08:47:05] \"GET / HTTP/1.1\" 200 -\n",
      "127.0.0.1 - - [03/Sep/2024 08:47:05] \"GET /images/joesph_biden_jr.png HTTP/1.1\" 304 -\n",
      "127.0.0.1 - - [03/Sep/2024 08:47:06] \"GET / HTTP/1.1\" 200 -\n",
      "127.0.0.1 - - [03/Sep/2024 08:47:06] \"GET /images/joesph_biden_jr.png HTTP/1.1\" 304 -\n",
      "127.0.0.1 - - [03/Sep/2024 08:47:06] \"GET / HTTP/1.1\" 200 -\n",
      "127.0.0.1 - - [03/Sep/2024 08:47:06] \"GET /images/barack_obama.png HTTP/1.1\" 304 -\n",
      "127.0.0.1 - - [03/Sep/2024 08:47:07] \"GET / HTTP/1.1\" 200 -\n",
      "127.0.0.1 - - [03/Sep/2024 08:47:07] \"GET /images/barack_obama.png HTTP/1.1\" 304 -\n",
      "127.0.0.1 - - [03/Sep/2024 08:47:07] \"GET / HTTP/1.1\" 200 -\n",
      "127.0.0.1 - - [03/Sep/2024 08:47:07] \"GET /images/joesph_biden_jr.png HTTP/1.1\" 304 -\n",
      "127.0.0.1 - - [03/Sep/2024 08:47:08] \"GET / HTTP/1.1\" 200 -\n",
      "127.0.0.1 - - [03/Sep/2024 08:47:08] \"GET /images/joesph_biden_jr.png HTTP/1.1\" 304 -\n",
      "127.0.0.1 - - [03/Sep/2024 08:47:08] \"GET / HTTP/1.1\" 200 -\n",
      "127.0.0.1 - - [03/Sep/2024 08:47:08] \"GET /images/barack_obama.png HTTP/1.1\" 304 -\n",
      "127.0.0.1 - - [03/Sep/2024 08:47:09] \"GET / HTTP/1.1\" 200 -\n",
      "127.0.0.1 - - [03/Sep/2024 08:47:09] \"GET /images/barack_obama.png HTTP/1.1\" 304 -\n",
      "127.0.0.1 - - [03/Sep/2024 08:47:09] \"GET / HTTP/1.1\" 200 -\n",
      "127.0.0.1 - - [03/Sep/2024 08:47:09] \"GET /images/joesph_biden_jr.png HTTP/1.1\" 304 -\n",
      "127.0.0.1 - - [03/Sep/2024 08:47:10] \"GET / HTTP/1.1\" 200 -\n",
      "127.0.0.1 - - [03/Sep/2024 08:47:10] \"GET /images/joesph_biden_jr.png HTTP/1.1\" 304 -\n",
      "127.0.0.1 - - [03/Sep/2024 08:47:10] \"GET / HTTP/1.1\" 200 -\n",
      "127.0.0.1 - - [03/Sep/2024 08:47:10] \"GET /images/joesph_biden_jr.png HTTP/1.1\" 304 -\n"
     ]
    }
   ],
   "source": [
    "from flask import Flask, render_template, send_from_directory\n",
    "import os\n",
    "import random\n",
    "\n",
    "app = Flask(__name__)\n",
    "\n",
    "# Set the directory where the images are stored\n",
    "IMAGE_DIR = os.path.join('static', 'images')\n",
    "\n",
    "# Get the title and heading from environment variables with default values\n",
    "APP_TITLE = os.getenv('APP_TITLE', 'My Favorite Parent')\n",
    "APP_HEADING = os.getenv('APP_HEADING', 'My Favorite Parent Is:')\n",
    "\n",
    "@app.route('/')\n",
    "def index():\n",
    "    # List all files in the image directory\n",
    "    images = os.listdir(IMAGE_DIR)\n",
    "    if not images:\n",
    "        return \"No images found in the directory.\", 404\n",
    "    \n",
    "    # Pick a random image\n",
    "    random_image = random.choice(images)\n",
    "    \n",
    "    return render_template('index.html', image=random_image, title=APP_TITLE, heading=APP_HEADING)\n",
    "\n",
    "@app.route('/images/<filename>')\n",
    "def image(filename):\n",
    "    # Serve the image file\n",
    "    return send_from_directory(IMAGE_DIR, filename)\n",
    "\n",
    "if __name__ == '__main__':\n",
    "    app.run(host='0.0.0.0', port=5000, debug=False)\n"
   ]
  },
  {
   "cell_type": "code",
   "execution_count": null,
   "id": "7be7bb76",
   "metadata": {},
   "outputs": [],
   "source": []
  },
  {
   "cell_type": "code",
   "execution_count": null,
   "id": "6e05256e",
   "metadata": {},
   "outputs": [],
   "source": []
  }
 ],
 "metadata": {
  "kernelspec": {
   "display_name": "Python 3 (ipykernel)",
   "language": "python",
   "name": "python3"
  },
  "language_info": {
   "codemirror_mode": {
    "name": "ipython",
    "version": 3
   },
   "file_extension": ".py",
   "mimetype": "text/x-python",
   "name": "python",
   "nbconvert_exporter": "python",
   "pygments_lexer": "ipython3",
   "version": "3.12.5"
  }
 },
 "nbformat": 4,
 "nbformat_minor": 5
}
