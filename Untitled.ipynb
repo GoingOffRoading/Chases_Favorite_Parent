{
 "cells": [
  {
   "cell_type": "code",
   "execution_count": null,
   "id": "cf5f9a3a",
   "metadata": {},
   "outputs": [
    {
     "name": "stdout",
     "output_type": "stream",
     "text": [
      "One\n",
      "Four\n",
      " * Serving Flask app '__main__'\n",
      " * Debug mode: off\n"
     ]
    },
    {
     "name": "stderr",
     "output_type": "stream",
     "text": [
      "WARNING: This is a development server. Do not use it in a production deployment. Use a production WSGI server instead.\n",
      " * Running on http://127.0.0.1:5000\n",
      "Press CTRL+C to quit\n",
      "127.0.0.1 - - [05/Mar/2024 19:32:31] \"GET / HTTP/1.1\" 200 -\n",
      "127.0.0.1 - - [05/Mar/2024 19:32:31] \"GET /static/C:\\\\Users\\\\Chase\\\\Documents\\\\GitHub\\\\Chases_Favorite_Parent\\\\static\\\\images\\\\joesph_biden_jr.png HTTP/1.1\" 404 -\n"
     ]
    },
    {
     "name": "stdout",
     "output_type": "stream",
     "text": [
      "Two\n",
      "Three\n",
      "no error\n"
     ]
    }
   ],
   "source": [
    "from flask import Flask, render_template, send_from_directory\n",
    "import os\n",
    "import random\n",
    "\n",
    "app = Flask(__name__)\n",
    "\n",
    "# Set the directory where the images are stored\n",
    "IMAGE_DIR = os.path.join('static', 'images')\n",
    "\n",
    "@app.route('/')\n",
    "def index():\n",
    "    # List all files in the image directory\n",
    "    images = os.listdir(IMAGE_DIR)\n",
    "    if not images:\n",
    "        return \"No images found in the directory.\", 404\n",
    "    \n",
    "    # Pick a random image\n",
    "    random_image = random.choice(images)\n",
    "    \n",
    "    return render_template('index.html', image=random_image)\n",
    "\n",
    "@app.route('/images/<filename>')\n",
    "def image(filename):\n",
    "    # Serve the image file\n",
    "    return send_from_directory(IMAGE_DIR, filename)\n",
    "\n",
    "if __name__ == '__main__':\n",
    "    app.run(debug=True)\n"
   ]
  },
  {
   "cell_type": "code",
   "execution_count": null,
   "id": "669f5013",
   "metadata": {},
   "outputs": [],
   "source": []
  },
  {
   "cell_type": "code",
   "execution_count": null,
   "id": "7be7bb76",
   "metadata": {},
   "outputs": [],
   "source": []
  }
 ],
 "metadata": {
  "kernelspec": {
   "display_name": "Python 3 (ipykernel)",
   "language": "python",
   "name": "python3"
  },
  "language_info": {
   "codemirror_mode": {
    "name": "ipython",
    "version": 3
   },
   "file_extension": ".py",
   "mimetype": "text/x-python",
   "name": "python",
   "nbconvert_exporter": "python",
   "pygments_lexer": "ipython3",
   "version": "3.9.12"
  }
 },
 "nbformat": 4,
 "nbformat_minor": 5
}
