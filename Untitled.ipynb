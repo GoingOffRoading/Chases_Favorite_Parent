{
 "cells": [
  {
   "cell_type": "code",
   "execution_count": null,
   "id": "cf5f9a3a",
   "metadata": {},
   "outputs": [
    {
     "name": "stdout",
     "output_type": "stream",
     "text": [
      "One\n",
      "Four\n",
      " * Serving Flask app '__main__'\n",
      " * Debug mode: off\n"
     ]
    },
    {
     "name": "stderr",
     "output_type": "stream",
     "text": [
      "WARNING: This is a development server. Do not use it in a production deployment. Use a production WSGI server instead.\n",
      " * Running on http://127.0.0.1:5000\n",
      "Press CTRL+C to quit\n",
      "127.0.0.1 - - [05/Mar/2024 19:32:31] \"GET / HTTP/1.1\" 200 -\n",
      "127.0.0.1 - - [05/Mar/2024 19:32:31] \"GET /static/C:\\\\Users\\\\Chase\\\\Documents\\\\GitHub\\\\Chases_Favorite_Parent\\\\static\\\\images\\\\joesph_biden_jr.png HTTP/1.1\" 404 -\n"
     ]
    },
    {
     "name": "stdout",
     "output_type": "stream",
     "text": [
      "Two\n",
      "Three\n",
      "no error\n"
     ]
    }
   ],
   "source": [
    "import os\n",
    "import random\n",
    "from flask import Flask, render_template\n",
    "\n",
    "app = Flask(__name__)\n",
    "\n",
    "print ('One')\n",
    "# Replace 'YOUR_IMAGE_DIRECTORY_PATH' with the path to your local image directory\n",
    "IMAGE_DIRECTORY_PATH = \"C:\\\\Users\\\\Chase\\\\Documents\\\\GitHub\\\\Chases_Favorite_Parent\\\\static\\\\images\"\n",
    "\n",
    "@app.route('/')\n",
    "def index():\n",
    "    print ('Two')\n",
    "    # Get a random image file from the local directory\n",
    "    image_path = get_random_image_path()\n",
    "    return render_template('index.html', image_path=image_path)\n",
    "\n",
    "def get_random_image_path():\n",
    "    print ('Three')\n",
    "    # Get a list of all image files in the directory\n",
    "    image_files = [f for f in os.listdir(IMAGE_DIRECTORY_PATH) if f.lower().endswith(('.png', '.jpg', '.jpeg', '.gif'))]\n",
    "    \n",
    "    if image_files:\n",
    "        # Get a random image file path\n",
    "        random_image = random.choice(image_files)\n",
    "        image_path = os.path.join(IMAGE_DIRECTORY_PATH, random_image)\n",
    "        print('no error')\n",
    "        return image_path\n",
    "    else:\n",
    "        print('error')\n",
    "        return None\n",
    "\n",
    "if __name__ == '__main__':\n",
    "    print ('Four')\n",
    "    app.run()\n",
    "    print ('Five')\n"
   ]
  },
  {
   "cell_type": "code",
   "execution_count": null,
   "id": "669f5013",
   "metadata": {},
   "outputs": [],
   "source": []
  },
  {
   "cell_type": "code",
   "execution_count": null,
   "id": "7be7bb76",
   "metadata": {},
   "outputs": [],
   "source": []
  }
 ],
 "metadata": {
  "kernelspec": {
   "display_name": "Python 3 (ipykernel)",
   "language": "python",
   "name": "python3"
  },
  "language_info": {
   "codemirror_mode": {
    "name": "ipython",
    "version": 3
   },
   "file_extension": ".py",
   "mimetype": "text/x-python",
   "name": "python",
   "nbconvert_exporter": "python",
   "pygments_lexer": "ipython3",
   "version": "3.9.12"
  }
 },
 "nbformat": 4,
 "nbformat_minor": 5
}
